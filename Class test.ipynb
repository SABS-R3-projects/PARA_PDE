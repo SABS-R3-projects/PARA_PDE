{
 "cells": [
  {
   "cell_type": "code",
   "execution_count": 44,
   "metadata": {},
   "outputs": [],
   "source": [
    "import numpy as np\n",
    "import scipy\n",
    "import scipy.sparse\n",
    "import scipy.sparse.linalg\n",
    "import matplotlib.pyplot as plt\n",
    "import time\n",
    "from matplotlib.animation import FuncAnimation\n",
    "\n",
    "class FitzHugh_Nagumo_solver(object):\n",
    "\n",
    "    def __init__ (self):\n",
    "        pass\n",
    "    \n",
    "    def _fitzhugh_nagumo_initial_conditions(self):\n",
    "        '''\n",
    "        Define Fitzhugh_nagumo model for some initial conditions.\n",
    "        Returns initial conditions\n",
    "        '''\n",
    "        u = np.zeros(self.N_dim)\n",
    "\n",
    "        for i in range(self.N_dim):\n",
    "            u[i] = 0.5*(1 + self.alpha) + 0.5*(1- self.alpha)*(np.tanh((np.sqrt(2)*(1-self.alpha)*self.x_range[i])/4))\n",
    "        \n",
    "        return u\n",
    "\n",
    "\n",
    "    def __laplace_matrix(self):\n",
    "        '''\n",
    "        Defines Laplace Matrix with dimensions of X\n",
    "        '''\n",
    "        e = np.ones(self.N_dim)\n",
    "        diagonals = [e, -2*e, e]\n",
    "        offsets = [-1, 0, 1]\n",
    "        self.L = scipy.sparse.spdiags(diagonals, offsets, self.N_dim, self.N_dim) /  self.h **2\n",
    "\n",
    "        return self.L\n",
    "\n",
    "    def FN_solver(self, x_0 : int, x_n: int, boundary_conditions: tuple = [0,1], step_size: float = 0.05,\n",
    "                 time_steps: int = 8000, alpha: float = 0.13):\n",
    "\n",
    "        self.h = step_size\n",
    "        self.x_range = np.arange(x_0+self.h, x_n-self.h, self.h)\n",
    "        self.alpha = alpha\n",
    "        self.N_dim = len(self.x_range)\n",
    "        self.k_N = time_steps\n",
    "        lower, upper = boundary_conditions[:]\n",
    "        self.bc = bc = np.concatenate(([lower], np.zeros(self.N_dim-2), [upper]))/self.h**2\n",
    "\n",
    "        u = np.empty((self.N_dim, self.k_N))\n",
    "        u[:,0] = self._fitzhugh_nagumo_initial_conditions()\n",
    "        k = 0.2 * self.h**2\n",
    "        L = self.__laplace_matrix()\n",
    "        #int(np.ceil(42/k)/10) DO WE NEED THIS?!\n",
    "\n",
    "        for i in range(1, self.k_N):\n",
    "            u[:,i] = u[:,i-1] + k*( (L@u[:,i-1] + self.bc) + (u[:,i-1]**2 - u[:,i-1]**3 - self.alpha*u[:,i-1] + self.alpha*u[:,i-1]**2) )\n",
    "        \n",
    "        return u"
   ]
  },
  {
   "cell_type": "code",
   "execution_count": 45,
   "metadata": {},
   "outputs": [],
   "source": [
    "trial = FitzHugh_Nagumo_solver()"
   ]
  },
  {
   "cell_type": "code",
   "execution_count": 47,
   "metadata": {},
   "outputs": [],
   "source": [
    "u = trial.FN_solver(0,20)"
   ]
  },
  {
   "cell_type": "code",
   "execution_count": 50,
   "metadata": {},
   "outputs": [
    {
     "data": {
      "text/plain": [
       "[<matplotlib.lines.Line2D at 0x7f2cefe3c890>]"
      ]
     },
     "execution_count": 50,
     "metadata": {},
     "output_type": "execute_result"
    },
    {
     "data": {
      "image/png": "[encoded data removed]",
      "text/plain": [
       "<Figure size 432x288 with 1 Axes>"
      ]
     },
     "metadata": {
      "needs_background": "light"
     },
     "output_type": "display_data"
    }
   ],
   "source": [
    "plt.plot(u[:,1])"
   ]
  },
  {
   "cell_type": "code",
   "execution_count": 53,
   "metadata": {},
   "outputs": [
    {
     "data": {
      "text/plain": [
       "0.13"
      ]
     },
     "execution_count": 53,
     "metadata": {},
     "output_type": "execute_result"
    }
   ],
   "source": [
    "trial.alpha"
   ]
  },
  {
   "cell_type": "code",
   "execution_count": null,
   "metadata": {},
   "outputs": [],
   "source": []
  }
 ],
 "metadata": {
  "kernelspec": {
   "display_name": "Python 3",
   "language": "python",
   "name": "python3"
  },
  "language_info": {
   "codemirror_mode": {
    "name": "ipython",
    "version": 3
   },
   "file_extension": ".py",
   "mimetype": "text/x-python",
   "name": "python",
   "nbconvert_exporter": "python",
   "pygments_lexer": "ipython3",
   "version": "3.7.4"
  }
 },
 "nbformat": 4,
 "nbformat_minor": 2
}
