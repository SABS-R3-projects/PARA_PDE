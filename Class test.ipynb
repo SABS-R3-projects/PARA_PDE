{
 "cells": [
  {
   "cell_type": "code",
   "execution_count": 26,
   "metadata": {},
   "outputs": [],
   "source": [
    "import numpy as np\n",
    "import scipy\n",
    "import scipy.sparse\n",
    "import scipy.sparse.linalg\n",
    "\n",
    "class FitzHugh_Nagumo_solver(object):\n",
    "    '''\n",
    "    Class to create and solve Fitzhugh-Nagumo equation\n",
    "\n",
    "    '''\n",
    "\n",
    "    def __init__ (self):\n",
    "        pass\n",
    "    \n",
    "    def __fitzhugh_nagumo_initial_conditions(self):\n",
    "        '''\n",
    "        Method to set the initial conditions of the Nagumo equation for iterative solving \n",
    "        using the analytical solution\n",
    "\n",
    "        return: initial condition with given parameters\n",
    "        '''\n",
    "\n",
    "        u = np.zeros(self.N_dim)\n",
    "\n",
    "        for i in range(self.N_dim):\n",
    "            u[i] = 0.5*(1.0 + self.alpha) + 0.5*(1.0- self.alpha)*(np.tanh((np.sqrt(2.0)*(1.0-self.alpha)*self.x_range[i])/4.0))\n",
    "        \n",
    "        return u\n",
    "\n",
    "\n",
    "    def __laplace_matrix(self):\n",
    "        '''\n",
    "        Defines Laplace Matrix with dimensions of X as a sparse matrix\n",
    "\n",
    "        Returns: The laplace matrix for a second order differential \n",
    "        '''\n",
    "\n",
    "        e = np.ones(self.N_dim)\n",
    "        diagonals = [e, -2*e, e]\n",
    "        offsets = [-1, 0, 1]\n",
    "        self.L = self.beta*(scipy.sparse.spdiags(diagonals, offsets, self.N_dim, self.N_dim)) /  self.h **2\n",
    "\n",
    "        return self.L\n",
    "\n",
    "\n",
    "    def FN_solver(self, x_0 : int, x_n: int, boundary_conditions: tuple = [0,1], step_size: float = 0.05,\n",
    "                 time_steps: int = 8000, alpha: float = 0.2, beta: float = 1.0, gamma: float = 1.0):\n",
    "        '''\n",
    "            Iterative method of solving the Fitzhuge-Nagumo system when episolon is very small as in most\n",
    "            neuroscience applications know as the Nagumo equation:\n",
    "\n",
    "                dv/dt= beta * d^2V/dx^2 + gamma * v(1-v)(v-alpha), where t > 0 and X exists in the reals\n",
    "\n",
    "            param x_0: lower bound of positional dimensions x, this must be specified.\n",
    "            param x_N: upper bound of positional dimensions x, this must be specified.\n",
    "            param boundary_conditions: The condition of the system at the lower and upper bound respectively, the default value is [0,1].\n",
    "            param step_size: Step Size of the positional dimension, the default value is 1.\n",
    "            param time_steps: Number of steps in time to be used, the default value is 8000.\n",
    "            param alpha: A constant of the equation which should obey 0 < alpha < 0.5, the default value is 0.2.\n",
    "            param Beta: A constant of the equation, the default value is 1.\n",
    "            param gamma: A constant of the equation, the default value is 1.\n",
    "            return: A matrix containing columns of V values for each position x at a given t (each column is a given t and each row is a given x)\n",
    "        '''\n",
    "\n",
    "        #defining class variables\n",
    "        self.h = step_size\n",
    "        self.x_range = np.arange(x_0+self.h, x_n-self.h, self.h)\n",
    "        self.alpha = alpha\n",
    "        self.beta= beta\n",
    "        self.gamma = gamma\n",
    "        self.N_dim = len(self.x_range)\n",
    "        self.k_N = time_steps\n",
    "        lower, upper = boundary_conditions[:]\n",
    "        self.bc = np.concatenate(([lower], np.zeros(self.N_dim-2), [upper]))/self.h**2\n",
    "\n",
    "        #initialising an empty matrix to contain the calculated solutions \n",
    "        u = np.empty((self.N_dim, self.k_N))\n",
    "        #placing initial conditions into the first column\n",
    "        u[:,0] = self.__fitzhugh_nagumo_initial_conditions()\n",
    "\n",
    "        #defining the time step size k\n",
    "        self.k = 0.2 * self.h**2\n",
    "        #calculating the time the simulation runs for \n",
    "        self.end_time = self.k*self.k_N \n",
    "\n",
    "        #calculating the laplace matrix\n",
    "        L = self.__laplace_matrix()\n",
    "\n",
    "        #iterative finite difference method\n",
    "        for i in range(1, self.k_N):\n",
    "            u[:,i] = u[:,i-1] +  self.k*( (L@u[:,i-1] + self.bc) \n",
    "            + self.gamma*(u[:,i-1]**2 - u[:,i-1]**3 - self.alpha*u[:,i-1] + self.alpha*u[:,i-1]**2) )\n",
    "        \n",
    "        return u"
   ]
  },
  {
   "cell_type": "code",
   "execution_count": 27,
   "metadata": {},
   "outputs": [],
   "source": [
    "trial = FitzHugh_Nagumo_solver()"
   ]
  },
  {
   "cell_type": "code",
   "execution_count": 28,
   "metadata": {},
   "outputs": [],
   "source": [
    "u = trial.FN_solver(0,20, time_steps = 200)"
   ]
  },
  {
   "cell_type": "code",
   "execution_count": 29,
   "metadata": {},
   "outputs": [
    {
     "data": {
      "text/plain": [
       "[<matplotlib.lines.Line2D at 0x7f9cc5211690>]"
      ]
     },
     "execution_count": 29,
     "metadata": {},
     "output_type": "execute_result"
    },
    {
     "data": {
      "image/png": "[encoded data removed]",
      "text/plain": [
       "<Figure size 432x288 with 1 Axes>"
      ]
     },
     "metadata": {
      "needs_background": "light"
     },
     "output_type": "display_data"
    }
   ],
   "source": [
    "plt.plot(u[:,1])"
   ]
  },
  {
   "cell_type": "code",
   "execution_count": 30,
   "metadata": {},
   "outputs": [
    {
     "data": {
      "text/plain": [
       "0.2"
      ]
     },
     "execution_count": 30,
     "metadata": {},
     "output_type": "execute_result"
    }
   ],
   "source": [
    "trial.alpha"
   ]
  },
  {
   "cell_type": "code",
   "execution_count": 33,
   "metadata": {},
   "outputs": [],
   "source": [
    "import matplotlib.pyplot as plt\n",
    "import time\n",
    "from matplotlib import animation\n",
    "\n",
    "def animation1(U, timeSteps: int, postionSteps: int, timeStepSize: float):\n",
    "\n",
    "    fig= plt.figure()\n",
    "    ims = []\n",
    "    for i in range(timeSteps):\n",
    "        im = plt.plot(postionSteps, U[:,i] , animated = True, color = 'red')\n",
    "        ims.append(im)\n",
    "    ani = animation.ArtistAnimation(fig, ims, interval = (100*timeStepSize), blit = True)\n",
    "    plt.show()"
   ]
  },
  {
   "cell_type": "code",
   "execution_count": 34,
   "metadata": {
    "scrolled": false
   },
   "outputs": [
    {
     "data": {
      "image/png": "[encoded data removed]",
      "text/plain": [
       "<Figure size 432x288 with 1 Axes>"
      ]
     },
     "metadata": {
      "needs_background": "light"
     },
     "output_type": "display_data"
    }
   ],
   "source": [
    "animation1(u, trial.k_N, trial.x_range, trial.k)"
   ]
  },
  {
   "cell_type": "code",
   "execution_count": null,
   "metadata": {},
   "outputs": [],
   "source": []
  }
 ],
 "metadata": {
  "kernelspec": {
   "display_name": "Python 3",
   "language": "python",
   "name": "python3"
  },
  "language_info": {
   "codemirror_mode": {
    "name": "ipython",
    "version": 3
   },
   "file_extension": ".py",
   "mimetype": "text/x-python",
   "name": "python",
   "nbconvert_exporter": "python",
   "pygments_lexer": "ipython3",
   "version": "3.7.4"
  }
 },
 "nbformat": 4,
 "nbformat_minor": 2
}
